{
 "cells": [
  {
   "cell_type": "code",
   "execution_count": 1,
   "id": "12dc4bc0",
   "metadata": {},
   "outputs": [],
   "source": [
    "from utils.my_llm_utils import *\n",
    "from utils.my_utils import *\n",
    "from utils.tavily_search_utils import web_search\n",
    "#from utils.crawler_utils import crawl_url\n",
    "\n",
    "import pandas as pd\n",
    "import time\n",
    "import os"
   ]
  },
  {
   "cell_type": "markdown",
   "id": "9237a3ec",
   "metadata": {},
   "source": [
    "**Logical Flow diagram**\n",
    "\n",
    "Flow Diagram - (https://www.mermaidchart.com/raw/68d92fe9-3162-4230-bb8f-72ef19be0604?theme=light&version=v0.1&format=svg)\n"
   ]
  },
  {
   "cell_type": "code",
   "execution_count": 2,
   "id": "8984cc58",
   "metadata": {},
   "outputs": [
    {
     "name": "stdout",
     "output_type": "stream",
     "text": [
      "gemma3:1b\n"
     ]
    }
   ],
   "source": [
    "# load the LLM\n",
    "\n",
    "# for default llm\n",
    "#llm = get_llm()\n",
    "\n",
    "# for openai llm\n",
    "#llm = get_llm(use_openai=True, model_name=\"gpt-4o\")\n",
    "\n",
    "# for ollama llm - [gemma3:1b, llama3.2:latest, deepseek-r1:8b, phi4:latest]\n",
    "llm = get_llm(use_openai=False, model_name=\"gemma3:1b\")\n",
    "\n",
    "\n",
    "# Check which llm has been loaded\n",
    "if hasattr(llm, 'model'):\n",
    "\tprint(llm.model)  # check loaded model\n",
    "else:\n",
    "\tprint(llm)"
   ]
  },
  {
   "cell_type": "code",
   "execution_count": 3,
   "id": "7f21c29c",
   "metadata": {},
   "outputs": [],
   "source": [
    "csv_path = \"data/AI Partnerships.csv\"\n",
    "\n",
    "# read the csv file\n",
    "df, output_path = read_csv_with_output_path(csv_path)\n"
   ]
  },
  {
   "cell_type": "code",
   "execution_count": 4,
   "id": "2326e383",
   "metadata": {},
   "outputs": [
    {
     "name": "stdout",
     "output_type": "stream",
     "text": [
      "\n",
      "Processing partnership: Hugging Face and IBM\n",
      "Searching for: Hugging Face IBM AI partnership announcement\n",
      "Found new link: https://newsroom.ibm.com/2023-08-24-IBM-to-Participate-in-235M-Series-D-Funding-Round-of-Hugging-Face\n",
      "Generated summary: IBM has joined a $235M series D funding round for Hugging Face, strengthening their partnership through collaborations on IBM's generative AI platform, WatsonX. This includes integrating models for various NLP tasks, contributing over 200 open models, releasing a NASA-partnered geospatial foundation model, and hosting Meta's Llama 2-chat model to enhance enterprise capabilities in building and deploying AI solutions.\n",
      "\n",
      "\n",
      "Stored raw content\n",
      "\n",
      "Processing partnership: IBM and Hugging Face\n",
      "Searching for: IBM Hugging Face AI partnership announcement\n",
      "Found new link: https://newsroom.ibm.com/2023-08-24-IBM-to-Participate-in-235M-Series-D-Funding-Round-of-Hugging-Face\n",
      "Generated summary: IBM is participating in a $235 million Series D funding round for Hugging Face, strengthening their collaboration to enhance AI capabilities on IBM’s watsonx platform. This partnership allows enterprises to build and customize foundation models with pre-trained NLP tools from both IBM and the Hugging Face community, including over 200 open models contributed by IBM, such as a geospatial model developed with NASA, and plans to host Meta's Llama 2-chat model.\n",
      "Stored raw content\n",
      "\n",
      "Processing partnership: Salesforce and Cohere\n",
      "Generating summary based on existing link...\n",
      "Generated summary: Salesforce has partnered with Cohere to enhance AI capabilities, allowing Slack users to integrate AI agents into their workflows through a recent update.\n",
      "\n",
      "(Note: The exact details of the partnership were not provided in the text snippet. This summary is inferred based on the context given.)\n",
      "Stored raw content\n",
      "\n",
      "Processing partnership: NIVIDIA  and Waabi\n",
      "Generating summary based on existing link...\n",
      "Generated summary: On March 18, 2024, NVIDIA announced a collaboration with Waabi to develop the first generative AI-powered autonomous trucking solution using the next-generation NVIDIA DRIVE Thor compute platform, which provides high-performance computing and safety-compliant capabilities for scalable self-driving applications. \n",
      "\n",
      "This summary captures the main points of the announcement: the partnership between NVIDIA and Waabi, the focus on generative AI-powered autonomous trucking solutions, and the key features and advantages of the DRIVE Thor platform.\n",
      "Stored raw content\n",
      "\n",
      "Processing partnership: NVIDIA and Tata Communications\n",
      "Generating summary based on existing link...\n",
      "Generated summary: NVIDIA has expanded its AI initiatives in India by forming new partnerships, including one with Tata Communications, as part of a broader strategy to enhance AI capabilities within the country. \n",
      "\n",
      "(Note: The summary is derived from provided information and assumptions about typical partnership announcements.)\n",
      "Stored raw content\n",
      "\n",
      "Updated data saved to data/AI Partnerships sample_updated.csv\n"
     ]
    }
   ],
   "source": [
    " # Update the partnerships data\n",
    "success = update_partnerships(df, output_path)"
   ]
  },
  {
   "cell_type": "code",
   "execution_count": null,
   "id": "f83e7aea",
   "metadata": {},
   "outputs": [],
   "source": []
  }
 ],
 "metadata": {
  "kernelspec": {
   "display_name": "AI_agents",
   "language": "python",
   "name": "python3"
  },
  "language_info": {
   "codemirror_mode": {
    "name": "ipython",
    "version": 3
   },
   "file_extension": ".py",
   "mimetype": "text/x-python",
   "name": "python",
   "nbconvert_exporter": "python",
   "pygments_lexer": "ipython3",
   "version": "3.11.11"
  }
 },
 "nbformat": 4,
 "nbformat_minor": 5
}
