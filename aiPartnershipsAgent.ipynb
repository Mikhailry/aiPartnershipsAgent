{
 "cells": [
  {
   "cell_type": "code",
   "execution_count": 1,
   "id": "12dc4bc0",
   "metadata": {},
   "outputs": [],
   "source": [
    "from utils.my_llm_utils import *\n",
    "import pandas as pd\n",
    "\n",
    "from utils.crawler_utils import crawl_url\n",
    "from utils.my_llm_utils import summarize_text\n",
    "from utils.tavily_search_utils import search_tavily\n",
    "\n"
   ]
  },
  {
   "cell_type": "code",
   "execution_count": null,
   "id": "8984cc58",
   "metadata": {},
   "outputs": [],
   "source": [
    "# load the LLM\n",
    "llm = get_llm()\n",
    "\n",
    "# Check which llm has been loaded\n",
    "if hasattr(llm, 'model'):\n",
    "\tprint(llm.model)  # check loaded model\n",
    "else:\n",
    "\tprint(llm)"
   ]
  },
  {
   "cell_type": "code",
   "execution_count": null,
   "id": "61211591",
   "metadata": {},
   "outputs": [],
   "source": [
    "# test queries\n",
    "\n",
    "# # test query\n",
    "# response = llm.invoke(\"What is the capital of Russia?\")\n",
    "# print(response)\n",
    "\n",
    "testUrl = \"https://www.crn.com/news/ai/2024/accenture-to-train-30-000-staff-on-nvidia-ai-tech-in-blockbuster-deal\"\n",
    "\n"
   ]
  },
  {
   "cell_type": "code",
   "execution_count": null,
   "id": "781b5998",
   "metadata": {},
   "outputs": [],
   "source": [
    "# ------------------------------------------------------\n",
    "# test search_tavily\n",
    "# ------------------------------------------------------\n",
    "search_tavily(\"NVIDIA AI\")\n",
    "\n",
    "#------------------------------------------------------\n",
    "# test crawl_url\n",
    "# ------------------------------------------------------\n",
    "text = crawl_url(testUrl)\n",
    "\n",
    "\n",
    "# ------------------------------------------------------\n",
    "# test summarize_text\n",
    "# ------------------------------------------------------\n",
    "summary = summarize_text(text)\n",
    "print(summary)\n"
   ]
  },
  {
   "cell_type": "code",
   "execution_count": 4,
   "id": "6d850958",
   "metadata": {},
   "outputs": [],
   "source": [
    "# Config\n",
    "INPUT_FILE = 'data/AI Partnerships sample.csv'\n",
    "OUTPUT_FILE = 'data/AI_Partnerships_Updated.csv'\n",
    "\n",
    "# Load Data\n",
    "df = pd.read_csv(INPUT_FILE)"
   ]
  },
  {
   "cell_type": "code",
   "execution_count": null,
   "id": "2da062a9",
   "metadata": {},
   "outputs": [
    {
     "name": "stdout",
     "output_type": "stream",
     "text": [
      "{'query': 'Accenture Nvidia partnership', 'follow_up_questions': None, 'answer': None, 'images': [], 'results': [{'title': 'ServiceNow, NVIDIA, and Accenture Team to Accelerate Generative AI ...', 'url': 'https://newsroom.accenture.com/news/2023/servicenow-nvidia-and-accenture-team-to-accelerate-generative-ai-adoption-for-enterprises', 'content': 'ServiceNow, NVIDIA, and Accenture Team to Accelerate Generative AI Adoption for Enterprises July 26, 2023 ServiceNow, NVIDIA, and Accenture Team to Accelerate Generative AI Adoption for Enterprises First-of-its-kind AI Lighthouse program helps customers create generative AI-based initiatives to transform their business operations SANTA CLARA, Calif.; July 26, 2023 – ServiceNow (NYSE: NOW), NVIDIA (NASDAQ: NVDA), and Accenture (NYSE: ACN) today announced the launch of AI Lighthouse, a first-of-its-kind program designed to fast-track the development and adoption of enterprise generative AI capabilities. Expanding on existing strategic partnerships among ServiceNow, NVIDIA and Accenture, AI Lighthouse will assist pioneering customers across industries in the design, development, and implementation of new generative AI use cases. AI Lighthouse unites the ServiceNow enterprise automation platform and engine, NVIDIA AI supercomputing and software, and Accenture AI transformation services. The comprehensive offering will let customers collaborate as design partners in architecting custom generative AI large language models (LLMs) and applications to advance their businesses.', 'score': 0.8593928, 'raw_content': None}], 'response_time': 2.43}\n"
     ]
    }
   ],
   "source": [
    "query = \"Accenture Nvidia partnership\"\n",
    "search_response = search_tavily(query)\n",
    "print(search_response)\n",
    "\n",
    "text = search_response['results'][0]['content']\n",
    "\n",
    "summary = summarize_text(text)\n",
    "print(summary)\n"
   ]
  }
 ],
 "metadata": {
  "kernelspec": {
   "display_name": "AI_agents",
   "language": "python",
   "name": "python3"
  },
  "language_info": {
   "codemirror_mode": {
    "name": "ipython",
    "version": 3
   },
   "file_extension": ".py",
   "mimetype": "text/x-python",
   "name": "python",
   "nbconvert_exporter": "python",
   "pygments_lexer": "ipython3",
   "version": "3.11.11"
  }
 },
 "nbformat": 4,
 "nbformat_minor": 5
}
