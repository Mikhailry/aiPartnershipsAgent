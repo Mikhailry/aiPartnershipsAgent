{
 "cells": [
  {
   "cell_type": "code",
   "execution_count": 1,
   "id": "12dc4bc0",
   "metadata": {},
   "outputs": [],
   "source": [
    "from my_llm_utils import *"
   ]
  },
  {
   "cell_type": "code",
   "execution_count": 2,
   "id": "8984cc58",
   "metadata": {},
   "outputs": [],
   "source": [
    "llm = get_llm()"
   ]
  },
  {
   "cell_type": "code",
   "execution_count": 3,
   "id": "0412c97a",
   "metadata": {},
   "outputs": [
    {
     "name": "stdout",
     "output_type": "stream",
     "text": [
      "client=<openai.resources.chat.completions.completions.Completions object at 0x10cb48f50> async_client=<openai.resources.chat.completions.completions.AsyncCompletions object at 0x10cb35950> root_client=<openai.OpenAI object at 0x10c54f550> root_async_client=<openai.AsyncOpenAI object at 0x104704e90> model_name='gpt-4o' model_kwargs={} openai_api_key=SecretStr('**********')\n"
     ]
    }
   ],
   "source": [
    "# Check which llm has been loaded\n",
    "if hasattr(llm, 'model'):\n",
    "\tprint(llm.model)  # check loaded model\n",
    "else:\n",
    "\tprint(llm)"
   ]
  },
  {
   "cell_type": "code",
   "execution_count": 4,
   "id": "61211591",
   "metadata": {},
   "outputs": [],
   "source": [
    "# # test query\n",
    "# response = llm.invoke(\"What is the capital of Russia?\")\n",
    "# print(response)"
   ]
  },
  {
   "cell_type": "code",
   "execution_count": 5,
   "id": "b9d2eb26",
   "metadata": {},
   "outputs": [],
   "source": [
    "textSample = \"\"\"Accenture To Train 30,000 Staff On Nvidia AI Tech In Blockbuster Deal\n",
    "\n",
    "BY DYLAN MARTIN\n",
    "OCTOBER 2, 2024, 8:00 AM EST\n",
    "The global services powerhouse says its newly formed Nvidia Business Group will focus on driving enterprise adoption of what it called ‘agentic AI systems’ by taking advantage of key Nvidia software platforms that fuel consumption of GPU-accelerated data centers.\n",
    "\n",
    "\n",
    "Listen to this article\n",
    "6 min\n",
    "429\n",
    "Shares\n",
    "linkedin sharing button\n",
    "twitter sharing button\n",
    "bluesky sharing button\n",
    "sharethis sharing button\n",
    "\n",
    "Global services powerhouse Accenture said it will train 30,000 employees on Nvidia’s full stack of AI technologies and start a new business group dedicated to the AI computing giant as part of a blockbuster deal between the two behemoths.\n",
    "\n",
    "Accenture, No. 1 on CRN’s 2024 Solution Provider 500 list, announced the expanded partnership on Wednesday and said its newly formed Nvidia Business Group will focus on driving enterprise adoption of what it called “agentic AI systems” by taking advantage of key Nvidia software platforms that fuel consumption of GPU-accelerated data centers.\n",
    "\n",
    "[Related: These Are Nvidia’s Top 13 Americas Partners With Fast-Growing AI Businesses]\n",
    "\n",
    "“The power of these announcements cannot be overstated,” Accenture Chief AI Officer Lan Guan said in a briefing with journalists and analysts the day before.\n",
    "\n",
    "Called the “next frontier” of generative AI, these “agentic AI systems” involve an “army of AI agents” that work alongside human workers to “make decisions and execute with precision across even the most complex workflows,” according to Guan, a 21-year Accenture veteran. Unlike chatbots such as ChatGPT, these agents do not require prompts from humans, and they are not meant to automating pre-existing business steps.\n",
    "\n",
    "ADVERTISEMENT\n",
    "\n",
    "\n",
    "How Accenture Plans To Use Nvidia’s Tech\n",
    "\n",
    "Most of the work done by Accenture’s new business group will happen through its AI Refinery platform, which takes advantage of three key Nvidia software platforms:\n",
    "\n",
    "Nvidia AI Foundry aids with the development of custom generative AI models by providing access to foundation models, frameworks and tools. Nvidia AI Enterprise offers microservices and tools for developing, optimizing and deploying AI applications. Nvidia Omniverse, on the other hand, enables development and deployment of 3-D applications.\n",
    "\n",
    "The latter two technologies are paid offerings from Nvidia, and they require systems that are powered by the company’s popular and powerful GPUs.\n",
    "\n",
    "Julie Sweet, chair and CEO of Accenture, said the company is “breaking significant new ground” and helping clients use generative AI as a catalyst for reinvention.”\n",
    "\n",
    "“Accenture AI Refinery will create opportunities for companies to reimagine their processes and operations, discover new ways of working, and scale AI solutions across the enterprise to help drive continuous change and create value,” she said in a statement.\n",
    "\n",
    "In tandem with the launch of the Nvidia business group and massive training effort, Accenture said it’s opening a network of AI engineering hubs in Singapore, Tokyo, Malaga and London that will aid with its push to drive adoption of “agentic AI systems.” These hubs become part of Accenture’s Center for Advanced AI and complement existing locations in Mountain View, Calif., and Bangalore.\n",
    "\n",
    "Accenture also plans to offer a new microservice meant to enable and optimize virtual facility robot fleet simulation workloads as part of Nvidia’s NIM Agent Blueprints, which is a category of pre-trained, customizable AI workflows that debuted in August.\n",
    "\n",
    "Why Accenture Sees ‘Agentic AI’ As A Big Deal\n",
    "\n",
    "Guan called “agentic AI systems” a “game-changer in how our clients reinvent their business” and said these agents will have “self-reflecting capabilities” and a “memory engine” that will allow them to learn from mistakes.\n",
    "\n",
    "Agents within these systems will specialize in specific tasks, whether that’s to research topics or orchestrate “multiple functions across your enterprise,” according to Guan.\n",
    "\n",
    "For example, Accenture designed a system consisting of 14 agents that allows its marketing team to “create and run smarter campaigns faster.” The company said this is expected to reduce the manual steps taken for such tasks by 25-35 percent, decrease costs by 6 percent and accelerated completion of said tasks by 22-55 percent.\n",
    "\n",
    "Elsewhere, the IT services giant said it plans to use its new NIM Agent for robot fleet simulation at Eclipse Automation, an Accenture-owned manufacturing automation company, and it expects the agent to speed up designs by as much as 50 percent.\n",
    "\n",
    "“I believe that this is the future we are heading towards: AI that does not just respond, but also actually learns, improves and works as a part of the team,” Guan said.\n",
    "\n",
    "Accenture is doubling down on its partnership with Nvidia after the company said last week that it had $3 billion in new generative AI bookings in its 2024 fiscal year, $1 billion of which came from the fourth quarter that ended on Aug. 31.\n",
    "\n",
    "Nvidia’s Big Push For Expanded GSI Partnerships\n",
    "\n",
    "Nvidia’s expanded partnership with Accenture is part of a concerted effort by the AI computing giant to grow its influence with global systems integrators (GSIs) and other multinational IT services companies that have significant influence within enterprises.\n",
    "\n",
    "Among the other GSIs that have developed extended relationships with Nvidia, Infosys said a year ago that it would train and certify 50,000 employees on the chip designer’s AI hardware and software solutions for example.\n",
    "\n",
    "At the helm of these efforts is Alvin Da Costa, Nvidia’s former global channel chief who became the leader of its global consulting organization in June 2023. Da Costa told CRN last year that Nvidia formed the new group to focus on its growing relationships with GSIs and service delivery partners—a move backed by Nvidia CEO Jensen Huang.\n",
    "\n",
    "“Jensen has been a very big advocate of partners, and he’s really giving us the latitude to make our partners profitable, to make them successful,” he said at the time.\"\"\""
   ]
  },
  {
   "cell_type": "code",
   "execution_count": 6,
   "id": "7ca57eed",
   "metadata": {},
   "outputs": [
    {
     "name": "stdout",
     "output_type": "stream",
     "text": [
      "Accenture has announced a significant partnership with Nvidia, wherein it will train 30,000 employees on Nvidia's AI technologies and establish a new business group to drive enterprise adoption of \"agentic AI systems\" using Nvidia's AI platforms, complemented by new AI engineering hubs across multiple global locations.\n"
     ]
    }
   ],
   "source": [
    "summary = summarize_text(textSample)\n",
    "print(summary)"
   ]
  },
  {
   "cell_type": "code",
   "execution_count": null,
   "id": "da37653b",
   "metadata": {},
   "outputs": [],
   "source": []
  },
  {
   "cell_type": "code",
   "execution_count": null,
   "id": "b5cf4459",
   "metadata": {},
   "outputs": [],
   "source": []
  },
  {
   "cell_type": "code",
   "execution_count": null,
   "id": "1b935182",
   "metadata": {},
   "outputs": [],
   "source": []
  },
  {
   "cell_type": "code",
   "execution_count": null,
   "id": "2c7c0798",
   "metadata": {},
   "outputs": [],
   "source": [
    "import os\n",
    "import re\n",
    "import pandas as pd\n",
    "from typing import Dict, List, Optional, Any\n",
    "import requests\n",
    "from bs4 import BeautifulSoup\n",
    "from datetime import datetime\n",
    "from urllib.parse import urlparse\n",
    "import langchain\n",
    "# from langchain_ollama import OllamaLLM\n",
    "# from langchain_openai import ChatOpenAI\n",
    "#from langchain_community.llms import Ollama\n",
    "from langchain.prompts import ChatPromptTemplate\n",
    "from langchain.schema import StrOutputParser\n",
    "from langgraph.graph import StateGraph, END\n",
    "from dotenv import load_dotenv\n",
    "import crawl4ai as c4a  # For web scraping"
   ]
  },
  {
   "cell_type": "code",
   "execution_count": null,
   "id": "635b2cc8",
   "metadata": {},
   "outputs": [],
   "source": [
    "# State definition for LangGraph\n",
    "class State:\n",
    "    data: pd.DataFrame       # The full dataset being processed\n",
    "    current_index: int       # Tracks which row is currently being processed\n",
    "    results: Dict[int, Dict] # Stores successful processing results by row index\n",
    "    errors: List[Dict]       # Collects any errors encountered during processing\n",
    "\n",
    "    def __init__(self, data):\n",
    "        self.data = data\n",
    "        self.current_index = 0\n",
    "        self.results = {}\n",
    "        self.errors = []\n",
    "\n",
    "    def to_dict(self):\n",
    "        return {\n",
    "            \"current_index\": self.current_index,\n",
    "            \"results\": self.results,\n",
    "            \"errors\": self.errors\n",
    "        }\n"
   ]
  }
 ],
 "metadata": {
  "kernelspec": {
   "display_name": "AI_agents",
   "language": "python",
   "name": "python3"
  },
  "language_info": {
   "codemirror_mode": {
    "name": "ipython",
    "version": 3
   },
   "file_extension": ".py",
   "mimetype": "text/x-python",
   "name": "python",
   "nbconvert_exporter": "python",
   "pygments_lexer": "ipython3",
   "version": "3.11.11"
  }
 },
 "nbformat": 4,
 "nbformat_minor": 5
}
